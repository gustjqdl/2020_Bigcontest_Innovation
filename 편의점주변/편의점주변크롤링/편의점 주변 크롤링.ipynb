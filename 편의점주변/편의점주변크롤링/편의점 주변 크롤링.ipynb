{
 "cells": [
  {
   "cell_type": "markdown",
   "metadata": {},
   "source": [
    "####  편의점 주변 크롤링 "
   ]
  },
  {
   "cell_type": "code",
   "execution_count": null,
   "metadata": {},
   "outputs": [],
   "source": [
    "import requests\n",
    "from urllib.parse import urlparse\n",
    "import pandas as pd\n",
    "\n",
    "def search(keyword,lon, lat):\n",
    "    df = pd.DataFrame(columns = ['place_name','category_name','road_address_name', 'distance', 'x', 'y'])\n",
    "    page = 1\n",
    "    \n",
    "    while True:\n",
    "        url = \"https://dapi.kakao.com/v2/local/search/category.json?&category_group_code=\"+keyword+\"&x=\"\\\n",
    "        +str(lon)+\"&y=\"+str(lat)+\"&page=\"+str(page)+\"&radius=500\"\n",
    "        json_obj = requests.get(urlparse(url).geturl(),headers={\"Authorization\":\"KAKAO_API_KEY\"}).json()\n",
    "        for document in json_obj['documents']:\n",
    "            df_s = pd.DataFrame(document, index=[0])[['place_name','category_name','road_address_name', 'distance', 'x', 'y']]\n",
    "            df = df.append(df_s)\n",
    "        if json_obj['meta']['is_end'] == False:\n",
    "            page += 1\n",
    "        else:\n",
    "            return df"
   ]
  },
  {
   "cell_type": "code",
   "execution_count": null,
   "metadata": {},
   "outputs": [],
   "source": [
    "df=pd.read_csv('C:../서울_대구_편의점_정보(좌표추가).csv')\n",
    "del(df['Unnamed: 0'],df['Unnamed: 0.1'])"
   ]
  },
  {
   "cell_type": "code",
   "execution_count": null,
   "metadata": {},
   "outputs": [],
   "source": [
    "#주변편의점 \n",
    "gs=[]\n",
    "\n",
    "for i in range(len(df)):\n",
    "    \n",
    "    tmp=search(\"CS2\",df['좌표'][i].split(',')[1].split(']')[0], df['좌표'][i].split(',')[0].split('[')[1])\n",
    "    \n",
    "    gs.append(tmp)"
   ]
  },
  {
   "cell_type": "code",
   "execution_count": null,
   "metadata": {},
   "outputs": [],
   "source": [
    "#주변 마트 \n",
    "\n",
    "mt=[]\n",
    "\n",
    "for i in range(len(df)):\n",
    "    \n",
    "    tmp=search(\"MT1\",df['좌표'][i].split(',')[1].split(']')[0], df['좌표'][i].split(',')[0].split('[')[1])\n",
    "    \n",
    "    mt.append(tmp)"
   ]
  },
  {
   "cell_type": "code",
   "execution_count": null,
   "metadata": {},
   "outputs": [],
   "source": [
    "#학교 \n",
    "\n",
    "school=[]\n",
    "\n",
    "for i in range(len(df)):\n",
    "    \n",
    "    tmp=search(\"SC4\",df['좌표'][i].split(',')[1].split(']')[0], df['좌표'][i].split(',')[0].split('[')[1])\n",
    "    \n",
    "    school.append(tmp)"
   ]
  },
  {
   "cell_type": "code",
   "execution_count": null,
   "metadata": {},
   "outputs": [],
   "source": [
    "#학원\n",
    "school2=[]\n",
    "\n",
    "for i in range(len(df)):\n",
    "    \n",
    "    tmp=search(\"AC5\",df['좌표'][i].split(',')[1].split(']')[0], df['좌표'][i].split(',')[0].split('[')[1])\n",
    "    \n",
    "    school2.append(tmp)"
   ]
  },
  {
   "cell_type": "code",
   "execution_count": null,
   "metadata": {},
   "outputs": [],
   "source": [
    "#지하철\n",
    "sub=[]\n",
    "\n",
    "for i in range(len(df)):\n",
    "    \n",
    "    tmp=search('SW8',df['좌표'][i].split(',')[1].split(']')[0], df['좌표'][i].split(',')[0].split('[')[1])\n",
    "    \n",
    "    sub.append(tmp)"
   ]
  },
  {
   "cell_type": "code",
   "execution_count": null,
   "metadata": {},
   "outputs": [],
   "source": [
    "#숙박시설\n",
    "tel=[]\n",
    "\n",
    "for i in range(len(df)):\n",
    "    \n",
    "    tmp=search('AD5',df['좌표'][i].split(',')[1].split(']')[0], df['좌표'][i].split(',')[0].split('[')[1])\n",
    "    \n",
    "    tel.append(tmp)"
   ]
  },
  {
   "cell_type": "code",
   "execution_count": null,
   "metadata": {},
   "outputs": [],
   "source": [
    "#관광명소\n",
    "ss=[]\n",
    "\n",
    "for i in range(len(df)):\n",
    "    \n",
    "    tmp=search('AT4',df['좌표'][i].split(',')[1].split(']')[0], df['좌표'][i].split(',')[0].split('[')[1])\n",
    "    \n",
    "    ss.append(tmp)\n",
    "    "
   ]
  },
  {
   "cell_type": "code",
   "execution_count": null,
   "metadata": {},
   "outputs": [],
   "source": [
    "#병원\n",
    "hos=[]\n",
    "for i in range(len(df)):\n",
    "    \n",
    "    tmp=search('HP8',df['좌표'][i].split(',')[1].split(']')[0], df['좌표'][i].split(',')[0].split('[')[1])\n",
    "    \n",
    "    hos.append(tmp)"
   ]
  },
  {
   "cell_type": "code",
   "execution_count": null,
   "metadata": {},
   "outputs": [],
   "source": []
  },
  {
   "cell_type": "code",
   "execution_count": null,
   "metadata": {},
   "outputs": [],
   "source": []
  },
  {
   "cell_type": "code",
   "execution_count": null,
   "metadata": {},
   "outputs": [],
   "source": []
  },
  {
   "cell_type": "code",
   "execution_count": null,
   "metadata": {},
   "outputs": [],
   "source": []
  },
  {
   "cell_type": "code",
   "execution_count": null,
   "metadata": {},
   "outputs": [],
   "source": []
  },
  {
   "cell_type": "code",
   "execution_count": null,
   "metadata": {},
   "outputs": [],
   "source": []
  },
  {
   "cell_type": "code",
   "execution_count": null,
   "metadata": {},
   "outputs": [],
   "source": []
  },
  {
   "cell_type": "code",
   "execution_count": null,
   "metadata": {},
   "outputs": [],
   "source": []
  },
  {
   "cell_type": "code",
   "execution_count": null,
   "metadata": {},
   "outputs": [],
   "source": []
  }
 ],
 "metadata": {
  "kernelspec": {
   "display_name": "Python 3",
   "language": "python",
   "name": "python3"
  },
  "language_info": {
   "codemirror_mode": {
    "name": "ipython",
    "version": 3
   },
   "file_extension": ".py",
   "mimetype": "text/x-python",
   "name": "python",
   "nbconvert_exporter": "python",
   "pygments_lexer": "ipython3",
   "version": "3.7.6"
  }
 },
 "nbformat": 4,
 "nbformat_minor": 4
}
