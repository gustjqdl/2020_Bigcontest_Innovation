{
 "cells": [
  {
   "cell_type": "markdown",
   "metadata": {},
   "source": [
    "## 2단계 : 편의점 관련 feature 추출 및 Scoring"
   ]
  },
  {
   "cell_type": "markdown",
   "metadata": {},
   "source": [
    "### # 편의점 feature 데이터 추출"
   ]
  },
  {
   "cell_type": "code",
   "execution_count": null,
   "metadata": {},
   "outputs": [],
   "source": [
    "dong_cod_retail = pd.read_excel(data_path+'offer/02_혁신아이디어분야_카드소비데이터(신한카드)_데이터정의서.xlsx', sheet_name='(참고) 행정동코드')\n",
    "dong_cod_retail = dong_cod_retail.set_index('행정동코드')\n",
    "dong_cod_retail.head()"
   ]
  },
  {
   "cell_type": "code",
   "execution_count": null,
   "metadata": {},
   "outputs": [],
   "source": [
    "card = pd.read_csv(data_path+'CARD_SPENDING_RESIDENT.txt', delimiter='\t')\n",
    "card = card[card.MCT_CAT_CD != 40]\n",
    "\n",
    "card_2019 = card[card['STD_DD'] <= 20191231]\n",
    "card_2019 = card_2019.groupby(['DONG_CD']).sum().drop(['MCT_CAT_CD','STD_DD','GU_CD', 'AGE_CD'], axis=1)\n",
    "\n",
    "card_2020 = card[card['STD_DD'] > 20191231]\n",
    "card_2020 = card_2020.groupby(['DONG_CD']).sum().drop(['MCT_CAT_CD','STD_DD','GU_CD', 'AGE_CD'], axis=1)"
   ]
  },
  {
   "cell_type": "code",
   "execution_count": null,
   "metadata": {},
   "outputs": [],
   "source": [
    "card_rateOfChange = (card_2020 - card_2019) / card_2019\n",
    "card_rateOfChange['행정동'] = 'Nan'\n",
    "card_rateOfChange.to_csv(data_path+'행정동코드추출.csv')"
   ]
  },
  {
   "cell_type": "code",
   "execution_count": null,
   "metadata": {},
   "outputs": [],
   "source": [
    "card_rateOfChange = pd.read_csv(data_path+'행정동코드추출_f.csv', encoding='CP949')\n",
    "card_rateOfChange = card_rateOfChange.set_index('행정동')"
   ]
  },
  {
   "cell_type": "code",
   "execution_count": null,
   "metadata": {},
   "outputs": [],
   "source": [
    "card_rateOfChange.index"
   ]
  },
  {
   "cell_type": "code",
   "execution_count": null,
   "metadata": {},
   "outputs": [],
   "source": [
    "all_sheets = pd.read_excel(data_path+'untact service related features.xlsx', sheet_name=None)"
   ]
  },
  {
   "cell_type": "code",
   "execution_count": null,
   "metadata": {},
   "outputs": [],
   "source": [
    "all_sheets.keys()"
   ]
  },
  {
   "cell_type": "code",
   "execution_count": null,
   "metadata": {},
   "outputs": [],
   "source": [
    "csv_data = all_sheets['draft_cvs']\n",
    "csv_data['card_rateOfChange'] = 'Nan'\n",
    "csv_data.head(2)"
   ]
  },
  {
   "cell_type": "code",
   "execution_count": null,
   "metadata": {},
   "outputs": [],
   "source": [
    "for i in range(len(csv_data)):\n",
    "    \n",
    "    try:\n",
    "        tempDong = csv_data.iloc[i]['행정동']\n",
    "        val = card_rateOfChange.loc[tempDong]['USE_AMT']\n",
    "        #print(val)\n",
    "    except:\n",
    "        val = card_rateOfChange.loc['평균']['USE_AMT']\n",
    "    csv_data.at[i,'card_rateOfChange'] = val"
   ]
  },
  {
   "cell_type": "code",
   "execution_count": null,
   "metadata": {},
   "outputs": [],
   "source": [
    "card_rateOfChange.loc['평균']['USE_AMT']"
   ]
  },
  {
   "cell_type": "code",
   "execution_count": null,
   "metadata": {},
   "outputs": [],
   "source": [
    "csv_data['card_rateOfChange'].describe()"
   ]
  },
  {
   "cell_type": "code",
   "execution_count": null,
   "metadata": {},
   "outputs": [],
   "source": [
    "feature = csv_data[csv_data['Unnamed: 0'] == '서울시'].drop(['Unnamed: 0','구','동','주소','좌표'], axis=1)"
   ]
  },
  {
   "cell_type": "code",
   "execution_count": null,
   "metadata": {},
   "outputs": [],
   "source": [
    "feature['범위 내 학교 (초중고?) : 학생증 청소년층'] = feature['범위 내 학교 (초중고?) : 학생증 청소년층']# * -1\n",
    "feature['범위 내 편의점수'] = feature['범위 내 편의점수'] * -1\n",
    "feature.head()"
   ]
  },
  {
   "cell_type": "markdown",
   "metadata": {},
   "source": [
    "### # 특정 feature 만 추출"
   ]
  },
  {
   "cell_type": "code",
   "execution_count": null,
   "metadata": {},
   "outputs": [],
   "source": [
    "use_col = feature[['행정동', '매장정보','범위 내 유흥업소','범위 내 편의점수', \n",
    "                   '범위 내 학교 (초중고?) : 학생증 청소년층', '범위 내 숙박시설', '범위 내 관광지', 'card_rateOfChange']]\n",
    "use_col.columns = ['dong', 'name','ent_num','cvs_num', 'sch_num','acc_num','tou_num','rate_change']"
   ]
  },
  {
   "cell_type": "code",
   "execution_count": null,
   "metadata": {},
   "outputs": [],
   "source": [
    "use_col['rate_change'].describe()"
   ]
  },
  {
   "cell_type": "code",
   "execution_count": null,
   "metadata": {},
   "outputs": [],
   "source": [
    "print(use_col['rate_change'].min())\n",
    "print(use_col['rate_change'].max())"
   ]
  },
  {
   "cell_type": "code",
   "execution_count": null,
   "metadata": {},
   "outputs": [],
   "source": [
    "use_col.describe()"
   ]
  },
  {
   "cell_type": "code",
   "execution_count": null,
   "metadata": {},
   "outputs": [],
   "source": []
  },
  {
   "cell_type": "markdown",
   "metadata": {},
   "source": [
    "### # 최대최소 정규화"
   ]
  },
  {
   "cell_type": "code",
   "execution_count": null,
   "metadata": {},
   "outputs": [],
   "source": [
    "scaled_data_minmax = pd.DataFrame(columns=use_col.columns)\n",
    "\n",
    "# 최대최소 정규화\n",
    "from sklearn.preprocessing import MinMaxScaler\n",
    "for i in range(2,len(scaled_data_minmax.columns)):\n",
    "    temp_values = use_col[use_col.columns[i]].values.reshape(-1,1)\n",
    "    temp_scale = MinMaxScaler().fit_transform(temp_values)\n",
    "    scaled_data_minmax[scaled_data_minmax.columns[i]] = temp_scale.reshape(-1)\n",
    "\n",
    "    \n",
    "scaled_data_minmax.iloc[:,:2] = use_col.iloc[:,:2].copy()"
   ]
  },
  {
   "cell_type": "code",
   "execution_count": null,
   "metadata": {},
   "outputs": [],
   "source": [
    "scaled_data_minmax.describe()"
   ]
  },
  {
   "cell_type": "code",
   "execution_count": null,
   "metadata": {},
   "outputs": [],
   "source": []
  },
  {
   "cell_type": "markdown",
   "metadata": {},
   "source": [
    "### # Z-score 정규화"
   ]
  },
  {
   "cell_type": "code",
   "execution_count": null,
   "metadata": {},
   "outputs": [],
   "source": [
    "scaled_data_zscore = pd.DataFrame(columns=use_col.columns)\n",
    "\n",
    "# Z-score 정규화\n",
    "from sklearn.preprocessing import StandardScaler\n",
    "for i in range(2,len(scaled_data_zscore.columns)):\n",
    "    temp_values = use_col[use_col.columns[i]].values.reshape(-1,1)\n",
    "    temp_scale = StandardScaler().fit_transform(temp_values)\n",
    "    scaled_data_zscore[scaled_data_zscore.columns[i]] = temp_scale.reshape(-1)\n",
    "\n",
    "scaled_data_zscore.iloc[:,:2] = use_col.iloc[:,:2].copy()"
   ]
  },
  {
   "cell_type": "code",
   "execution_count": null,
   "metadata": {},
   "outputs": [],
   "source": [
    "scaled_data_zscore.describe()"
   ]
  },
  {
   "cell_type": "markdown",
   "metadata": {},
   "source": [
    "### # 가중치 부여 Scoring"
   ]
  },
  {
   "cell_type": "code",
   "execution_count": null,
   "metadata": {},
   "outputs": [],
   "source": [
    "def getScoreCol(scaled_data):\n",
    "    temp_data = scaled_data.copy()\n",
    "    \n",
    "    # feature 수\n",
    "    num_feature = len(temp_data.columns)-2\n",
    "    \n",
    "    # 가중치\n",
    "    weight = [1/num_feature for _ in range(num_feature)] # [0.2, 0.2, 0.2, 0.2, 0.2]\n",
    "    \n",
    "    # score column 초기화\n",
    "    sum_col = 0\n",
    "    for i in range(num_feature):\n",
    "        sum_col += temp_data.iloc[:,i+2]*weight[i] # 혹시 이거 .iloc[i,]\n",
    "    temp_data['score'] = sum_col\n",
    "    \n",
    "    return temp_data"
   ]
  },
  {
   "cell_type": "code",
   "execution_count": null,
   "metadata": {},
   "outputs": [],
   "source": [
    "# minmax\n",
    "result = getScoreCol(scaled_data_minmax)\n",
    "\n",
    "# score가 제일 높은 편의점\n",
    "result[result.score == result.score.max()]"
   ]
  },
  {
   "cell_type": "code",
   "execution_count": null,
   "metadata": {},
   "outputs": [],
   "source": [
    "result"
   ]
  },
  {
   "cell_type": "code",
   "execution_count": null,
   "metadata": {},
   "outputs": [],
   "source": [
    "\n",
    "# z-score  \n",
    "result_z = getScoreCol(scaled_data_zscore)\n",
    "\n",
    "# score가 제일 높은 편의점\n",
    "result[result.score == result.score.max()]"
   ]
  },
  {
   "cell_type": "code",
   "execution_count": null,
   "metadata": {},
   "outputs": [],
   "source": [
    "result_z.set_index('dong').sort_index()[['name','score']].sort_values(by='score', ascending=False)"
   ]
  },
  {
   "cell_type": "code",
   "execution_count": null,
   "metadata": {},
   "outputs": [],
   "source": [
    "use_col[use_col['name'] == 'GS25을지로3가역점']"
   ]
  }
 ],
 "metadata": {
  "kernelspec": {
   "display_name": "Python 3",
   "language": "python",
   "name": "python3"
  },
  "language_info": {
   "codemirror_mode": {
    "name": "ipython",
    "version": 3
   },
   "file_extension": ".py",
   "mimetype": "text/x-python",
   "name": "python",
   "nbconvert_exporter": "python",
   "pygments_lexer": "ipython3",
   "version": "3.7.6"
  }
 },
 "nbformat": 4,
 "nbformat_minor": 4
}
